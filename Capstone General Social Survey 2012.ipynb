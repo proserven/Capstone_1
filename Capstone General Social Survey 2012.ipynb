{
 "cells": [
  {
   "cell_type": "markdown",
   "metadata": {},
   "source": [
    "# <center> General Social Survey\n",
    "## <center> From the National Archive of Data on Arts & Culture\n",
    "###    <center>by Luis Marquez"
   ]
  },
  {
   "cell_type": "markdown",
   "metadata": {},
   "source": [
    "The present capstone is based in a general social survey realized by the University of Chicago on behalf of the National Data Program for the Social Sciences in March of 2012 supervised by Tom W. Smith from the National Opinion Research Center, Peter V. Marsden from the National Opinion Research Center and Michael Hout from the National Opinion Research Center."
   ]
  },
  {
   "cell_type": "markdown",
   "metadata": {},
   "source": [
    "The General Social Survey (GSS) is a collection of data from the general public; the collection was based in more than 1060 merged variables including attitudes toward social issues, religion, education, jobs, economy, government and other institutions, politics, and policy issues."
   ]
  },
  {
   "cell_type": "code",
   "execution_count": 1,
   "metadata": {},
   "outputs": [],
   "source": [
    "import pandas as pd\n",
    "import numpy as np\n",
    "import matplotlib.pyplot as plt\n",
    "from scipy.stats import ttest_ind\n",
    "%matplotlib inline"
   ]
  },
  {
   "cell_type": "markdown",
   "metadata": {},
   "source": [
    "The data is in a CSV file (35478-0001-Data.csv) with 4820 rows and  1069 columns that are going to be of use to create a line of information about the user that left the information."
   ]
  },
  {
   "cell_type": "code",
   "execution_count": 2,
   "metadata": {},
   "outputs": [],
   "source": [
    "data = pd.read_csv('35478-0001-Data.csv')"
   ]
  },
  {
   "cell_type": "code",
   "execution_count": 3,
   "metadata": {},
   "outputs": [],
   "source": [
    "df = pd.DataFrame(data)"
   ]
  },
  {
   "cell_type": "markdown",
   "metadata": {},
   "source": [
    "#### What is the sex distribution of the respondents?"
   ]
  },
  {
   "cell_type": "markdown",
   "metadata": {},
   "source": [
    "The information is saved in the variable SEX that uses two values, 1 for male and 2 for female."
   ]
  },
  {
   "cell_type": "code",
   "execution_count": 4,
   "metadata": {},
   "outputs": [
    {
     "data": {
      "text/plain": [
       "1    2132\n",
       "2    2688\n",
       "Name: SEX, dtype: int64"
      ]
     },
     "execution_count": 4,
     "metadata": {},
     "output_type": "execute_result"
    }
   ],
   "source": [
    "data.SEX.value_counts(ascending=True)"
   ]
  },
  {
   "cell_type": "code",
   "execution_count": 5,
   "metadata": {},
   "outputs": [
    {
     "data": {
      "image/png": "[encoded data removed]",
      "text/plain": [
       "<Figure size 432x288 with 1 Axes>"
      ]
     },
     "metadata": {
      "needs_background": "light"
     },
     "output_type": "display_data"
    }
   ],
   "source": [
    "data.SEX.value_counts(ascending=True).plot(kind='bar', )\n",
    "plt.title('GSS Sex Distribution')\n",
    "plt.ylabel('Population')\n",
    "plt.xlabel('Sex')\n",
    "plt.xticks([0, 1], ['Male', 'Female'])\n",
    "plt.show()"
   ]
  },
  {
   "cell_type": "markdown",
   "metadata": {},
   "source": [
    "The GSS indicates that 2132(44%) respondents were male and 2688(56%) females of the population."
   ]
  },
  {
   "cell_type": "markdown",
   "metadata": {},
   "source": [
    "#### What is the race distribution of the respondents?"
   ]
  },
  {
   "cell_type": "markdown",
   "metadata": {},
   "source": [
    "The information is saved in the variable RACE that uses three values, 1 for white, 2 for black and 3 for other."
   ]
  },
  {
   "cell_type": "code",
   "execution_count": 6,
   "metadata": {},
   "outputs": [
    {
     "data": {
      "text/plain": [
       "1    3700\n",
       "2     722\n",
       "3     398\n",
       "Name: RACE, dtype: int64"
      ]
     },
     "execution_count": 6,
     "metadata": {},
     "output_type": "execute_result"
    }
   ],
   "source": [
    "data.RACE.value_counts(ascending=False)"
   ]
  },
  {
   "cell_type": "code",
   "execution_count": 7,
   "metadata": {
    "scrolled": true
   },
   "outputs": [
    {
     "data": {
      "image/png": "[encoded data removed]",
      "text/plain": [
       "<Figure size 432x288 with 1 Axes>"
      ]
     },
     "metadata": {},
     "output_type": "display_data"
    }
   ],
   "source": [
    "data.RACE.value_counts(ascending=False).plot(kind='pie', labels= ('White', 'Black', 'Other'))\n",
    "plt.title('GSS Race Distribution')\n",
    "plt.show()"
   ]
  },
  {
   "cell_type": "markdown",
   "metadata": {},
   "source": [
    "The GSS indicates that 3700(77%) respondents were white, 722(15%) black and 398(8%) in other of the population."
   ]
  },
  {
   "cell_type": "markdown",
   "metadata": {},
   "source": [
    "#### What population received college degree education?"
   ]
  },
  {
   "cell_type": "markdown",
   "metadata": {},
   "source": [
    "The information is saved in the variable WHENCOL that uses years values from , 0 as inapplicable, 9998 as don't know and 9999 as no answer."
   ]
  },
  {
   "cell_type": "code",
   "execution_count": 8,
   "metadata": {},
   "outputs": [
    {
     "data": {
      "text/plain": [
       "700"
      ]
     },
     "execution_count": 8,
     "metadata": {},
     "output_type": "execute_result"
    }
   ],
   "source": [
    "((data.WHENCOL !=0 ) & (data.WHENCOL !=9998) & (data.WHENCOL !=9999) ).sum()"
   ]
  },
  {
   "cell_type": "markdown",
   "metadata": {},
   "source": [
    "The total amount of the population with a college degree education is 700 from 4820 respondents."
   ]
  },
  {
   "cell_type": "markdown",
   "metadata": {},
   "source": [
    "#### Show the distribution for the top 35 years of more college graduates."
   ]
  },
  {
   "cell_type": "code",
   "execution_count": 9,
   "metadata": {},
   "outputs": [
    {
     "data": {
      "text/plain": [
       "array([   0, 1938, 1947, 1948, 1949, 1950, 1951, 1952, 1955, 1956, 1957,\n",
       "       1958, 1959, 1960, 1961, 1962, 1963, 1964, 1965, 1966, 1967, 1968,\n",
       "       1969, 1970, 1971, 1972, 1973, 1974, 1975, 1976, 1977, 1978, 1979,\n",
       "       1980, 1981, 1982, 1983, 1984, 1985, 1986, 1987, 1988, 1989, 1990,\n",
       "       1991, 1992, 1993, 1994, 1995, 1996, 1997, 1998, 1999, 2000, 2001,\n",
       "       2002, 2003, 2004, 2005, 2006, 2007, 2008, 2009, 2010, 2011, 2012,\n",
       "       9998, 9999], dtype=int64)"
      ]
     },
     "execution_count": 9,
     "metadata": {},
     "output_type": "execute_result"
    }
   ],
   "source": [
    "data.WHENCOL.sort_values().unique()"
   ]
  },
  {
   "cell_type": "markdown",
   "metadata": {},
   "source": [
    "The range value of the years within the college graduation year of the respondents is from 1938 to 2012."
   ]
  },
  {
   "cell_type": "code",
   "execution_count": 10,
   "metadata": {},
   "outputs": [
    {
     "data": {
      "image/png": "[encoded data removed]",
      "text/plain": [
       "<Figure size 864x360 with 1 Axes>"
      ]
     },
     "metadata": {
      "needs_background": "light"
     },
     "output_type": "display_data"
    }
   ],
   "source": [
    "data.WHENCOL.value_counts().head(35).plot(kind='bar', figsize=(12,5))\n",
    "plt.show()"
   ]
  },
  {
   "cell_type": "markdown",
   "metadata": {},
   "source": [
    "Because the value 0 have the most significant value is vital to take that value out to get the contents of the years with more college graduates."
   ]
  },
  {
   "cell_type": "code",
   "execution_count": 11,
   "metadata": {},
   "outputs": [
    {
     "data": {
      "image/png": "[encoded data removed]",
      "text/plain": [
       "<Figure size 864x360 with 1 Axes>"
      ]
     },
     "metadata": {
      "needs_background": "light"
     },
     "output_type": "display_data"
    }
   ],
   "source": [
    "data.WHENCOL.value_counts().head(35)[1:].plot(kind='bar', figsize=(12,5))\n",
    "plt.show()"
   ]
  },
  {
   "cell_type": "markdown",
   "metadata": {},
   "source": [
    "The graphic shows a progressive increment of college graduates, 2011 was the year with more graduations of the respondents, and 2012 is in the 23rd place, maybe because the survey was taken in the middle of the year."
   ]
  },
  {
   "cell_type": "markdown",
   "metadata": {},
   "source": [
    "#### Distribution of race of the college graduates?"
   ]
  },
  {
   "cell_type": "code",
   "execution_count": 12,
   "metadata": {},
   "outputs": [],
   "source": [
    "df_range = df[(df['WHENCOL'] >= 1938) & (df['WHENCOL'] <= 2012)]"
   ]
  },
  {
   "cell_type": "code",
   "execution_count": 13,
   "metadata": {},
   "outputs": [
    {
     "data": {
      "text/plain": [
       "1    551\n",
       "2     82\n",
       "3     67\n",
       "Name: RACE, dtype: int64"
      ]
     },
     "execution_count": 13,
     "metadata": {},
     "output_type": "execute_result"
    }
   ],
   "source": [
    "df_range.RACE.value_counts(ascending=False)"
   ]
  },
  {
   "cell_type": "code",
   "execution_count": 14,
   "metadata": {},
   "outputs": [
    {
     "data": {
      "image/png": "[encoded data removed]",
      "text/plain": [
       "<Figure size 432x288 with 1 Axes>"
      ]
     },
     "metadata": {},
     "output_type": "display_data"
    }
   ],
   "source": [
    "df_range.RACE.value_counts(ascending=False).plot(kind='pie', labels= ('White', 'Black', 'Other'))\n",
    "plt.title('GSS Race Distribution for College Graduate')\n",
    "plt.show()"
   ]
  },
  {
   "cell_type": "markdown",
   "metadata": {},
   "source": [
    "From the 700 college graduates 551(78%) respondents are white, 82(12%) are black and 67(10%)."
   ]
  },
  {
   "cell_type": "markdown",
   "metadata": {},
   "source": [
    "#### What is the marital status distribution of the college graduates?"
   ]
  },
  {
   "cell_type": "markdown",
   "metadata": {},
   "source": [
    "The information is saved in the variable MARITAL that uses value 1 for married, 2 for widowed, 3 for divorce, 4 for separated and 5 for never married."
   ]
  },
  {
   "cell_type": "code",
   "execution_count": 15,
   "metadata": {},
   "outputs": [
    {
     "data": {
      "text/plain": [
       "1    379\n",
       "2     45\n",
       "3    100\n",
       "4     21\n",
       "5    155\n",
       "Name: MARITAL, dtype: int64"
      ]
     },
     "execution_count": 15,
     "metadata": {},
     "output_type": "execute_result"
    }
   ],
   "source": [
    "df_range.MARITAL.value_counts(sort=False)"
   ]
  },
  {
   "cell_type": "code",
   "execution_count": 16,
   "metadata": {},
   "outputs": [
    {
     "data": {
      "image/png": "[encoded data removed]",
      "text/plain": [
       "<Figure size 432x288 with 1 Axes>"
      ]
     },
     "metadata": {},
     "output_type": "display_data"
    }
   ],
   "source": [
    "df_range.MARITAL.value_counts(sort=False).plot(kind='pie', labels= ('Married', 'Widowed', 'Divorce', 'Separated', 'Divorced'))\n",
    "plt.title('GSS Marital Distribution for College Graduate')\n",
    "plt.show()"
   ]
  },
  {
   "cell_type": "markdown",
   "metadata": {},
   "source": [
    "The distribution fo the marital status of the college graduates is as follow: 379(54%) merried, 155(22%) never merried, 100(14%) divorced, 45(7%) windowed and 21(3%) separated."
   ]
  },
  {
   "cell_type": "markdown",
   "metadata": {},
   "source": [
    "#### Sex distribution on college graduated population?"
   ]
  },
  {
   "cell_type": "code",
   "execution_count": 17,
   "metadata": {},
   "outputs": [
    {
     "data": {
      "text/plain": [
       "1    316\n",
       "2    384\n",
       "Name: SEX, dtype: int64"
      ]
     },
     "execution_count": 17,
     "metadata": {},
     "output_type": "execute_result"
    }
   ],
   "source": [
    "df_range.SEX.value_counts(ascending=True)"
   ]
  },
  {
   "cell_type": "code",
   "execution_count": 18,
   "metadata": {},
   "outputs": [
    {
     "data": {
      "image/png": "[encoded data removed]",
      "text/plain": [
       "<Figure size 432x288 with 1 Axes>"
      ]
     },
     "metadata": {
      "needs_background": "light"
     },
     "output_type": "display_data"
    }
   ],
   "source": [
    "df_range.SEX.value_counts(ascending=True).plot(kind='bar', )\n",
    "plt.title('GSS Sex Distribution on College Graduated Population')\n",
    "plt.ylabel('Population')\n",
    "plt.xlabel('Sex')\n",
    "plt.xticks([0, 1], ['Male', 'Female'])\n",
    "plt.show()"
   ]
  },
  {
   "cell_type": "markdown",
   "metadata": {},
   "source": [
    "The sex distribution for college graduation indicates that 316(45%) respondents were male and 384(54%) females."
   ]
  },
  {
   "cell_type": "markdown",
   "metadata": {},
   "source": [
    "#### How similar is the sex distribution from the total population vs. the college graduate?"
   ]
  },
  {
   "cell_type": "code",
   "execution_count": 19,
   "metadata": {},
   "outputs": [
    {
     "data": {
      "text/plain": [
       "1.5576763485477179"
      ]
     },
     "execution_count": 19,
     "metadata": {},
     "output_type": "execute_result"
    }
   ],
   "source": [
    "df.SEX.mean()"
   ]
  },
  {
   "cell_type": "code",
   "execution_count": 20,
   "metadata": {},
   "outputs": [
    {
     "data": {
      "text/plain": [
       "1.5485714285714285"
      ]
     },
     "execution_count": 20,
     "metadata": {},
     "output_type": "execute_result"
    }
   ],
   "source": [
    "df_range.SEX.mean()"
   ]
  },
  {
   "cell_type": "code",
   "execution_count": 21,
   "metadata": {},
   "outputs": [
    {
     "data": {
      "text/plain": [
       "0.4967138275708143"
      ]
     },
     "execution_count": 21,
     "metadata": {},
     "output_type": "execute_result"
    }
   ],
   "source": [
    "df.SEX.std()"
   ]
  },
  {
   "cell_type": "code",
   "execution_count": 22,
   "metadata": {},
   "outputs": [
    {
     "data": {
      "text/plain": [
       "0.4979910591905458"
      ]
     },
     "execution_count": 22,
     "metadata": {},
     "output_type": "execute_result"
    }
   ],
   "source": [
    "df_range.SEX.std()"
   ]
  },
  {
   "cell_type": "code",
   "execution_count": 23,
   "metadata": {},
   "outputs": [
    {
     "data": {
      "text/plain": [
       "0.009104919976289372"
      ]
     },
     "execution_count": 23,
     "metadata": {},
     "output_type": "execute_result"
    }
   ],
   "source": [
    "diff = df.SEX.mean() - df_range.SEX.mean()\n",
    "diff"
   ]
  },
  {
   "cell_type": "code",
   "execution_count": 24,
   "metadata": {},
   "outputs": [
    {
     "data": {
      "text/plain": [
       "array([4820,  700])"
      ]
     },
     "execution_count": 24,
     "metadata": {},
     "output_type": "execute_result"
    }
   ],
   "source": [
    "size = np.array([len(df.SEX), len(df_range)])\n",
    "size"
   ]
  },
  {
   "cell_type": "code",
   "execution_count": 25,
   "metadata": {},
   "outputs": [
    {
     "data": {
      "text/plain": [
       "array([0.49671383, 0.49799106])"
      ]
     },
     "execution_count": 25,
     "metadata": {},
     "output_type": "execute_result"
    }
   ],
   "source": [
    "sd = np.array([df.SEX.std(), df_range.SEX.std()])\n",
    "sd"
   ]
  },
  {
   "cell_type": "code",
   "execution_count": 26,
   "metadata": {},
   "outputs": [
    {
     "data": {
      "text/plain": [
       "0.020136195992230363"
      ]
     },
     "execution_count": 26,
     "metadata": {},
     "output_type": "execute_result"
    }
   ],
   "source": [
    "diff_se = (sum(sd**2 / size))** 0.5\n",
    "diff_se"
   ]
  },
  {
   "cell_type": "code",
   "execution_count": 27,
   "metadata": {},
   "outputs": [
    {
     "data": {
      "text/plain": [
       "0.45216683328879714"
      ]
     },
     "execution_count": 27,
     "metadata": {},
     "output_type": "execute_result"
    }
   ],
   "source": [
    "t_value_original = (diff / diff_se)\n",
    "t_value_original"
   ]
  },
  {
   "cell_type": "code",
   "execution_count": 28,
   "metadata": {},
   "outputs": [
    {
     "data": {
      "text/plain": [
       "Ttest_indResult(statistic=0.4521668332887972, pvalue=0.6512562277838481)"
      ]
     },
     "execution_count": 28,
     "metadata": {},
     "output_type": "execute_result"
    }
   ],
   "source": [
    "ttest_ind(df.SEX, df_range.SEX, equal_var=False)"
   ]
  },
  {
   "cell_type": "markdown",
   "metadata": {},
   "source": [
    "### Conclusion"
   ]
  },
  {
   "cell_type": "markdown",
   "metadata": {},
   "source": [
    "The General Social Survey (GSS) is a collection of data from the general public formed with 1060 rows of variables and 4820 respondents. The topics of the survey comprehend several areas of interest, from attitudes toward social issues, religion, education, jobs, economy, politics, policy issues in government and other institutions."
   ]
  },
  {
   "cell_type": "markdown",
   "metadata": {},
   "source": [
    "One of the interests of the research was to know the total population of the sex and race distribution of the respondents. The result gives a majority to the female's population with 56% percent over 44% of the male respondents. In the race distribution, the dominant respondents were the white race with 77% of presence followed by the black population with 15% and finally by other communities with 8% of participation."
   ]
  },
  {
   "cell_type": "markdown",
   "metadata": {},
   "source": [
    "From the 4820 respondents of the survey, only 700 (about 15%) of the population have a college degree. The earlier year of a respondent with a college degree was from 1938 with a steady increment of participants as years increased. 2011 was the year with more college graduates; it is essential to keep in mind the survey collected the information in March of 2012 giving the 23rd position to the number of college graduates to the year 2012."
   ]
  },
  {
   "cell_type": "markdown",
   "metadata": {},
   "source": [
    "Within the college graduates respondents, sex and distribution of information was analyzed and found that the population distribution in sex was dominant by females with 54% of the population and males with 45%. In the race distribution of the college alumni, the white population was the most significant group with 78% of the people, followed by the black community with 12% and others with only 10% of the population."
   ]
  },
  {
   "cell_type": "markdown",
   "metadata": {},
   "source": [
    "Finally, an analysis of how significative the sex distribution was from the total population survey vs. the college graduates was realized with the following conclusion. The difference between the average of the two groups was small, indicating a high similitude of the two groups of information with a combine of variances of 2% between the two groups. The p-value is of 0.65 meaning the result is statistically significant for the main survey sex distribution group to influence the results of the sex distribution of college graduate group."
   ]
  },
  {
   "cell_type": "markdown",
   "metadata": {},
   "source": [
    "#### Reference"
   ]
  },
  {
   "cell_type": "markdown",
   "metadata": {},
   "source": [
    "<i>Smith, Tom W., Marsden, Peter V., and Hout, Michael. General Social Survey, 2012 Merged Data, Including a Cultural Module [United States]. Ann Arbor, MI: Inter-university Consortium for Political and Social Research [distributor], 2016-05-26. https://doi.org/10.3886/ICPSR35478.v4"
   ]
  },
  {
   "cell_type": "code",
   "execution_count": null,
   "metadata": {},
   "outputs": [],
   "source": []
  }
 ],
 "metadata": {
  "kernelspec": {
   "display_name": "Python 3",
   "language": "python",
   "name": "python3"
  },
  "language_info": {
   "codemirror_mode": {
    "name": "ipython",
    "version": 3
   },
   "file_extension": ".py",
   "mimetype": "text/x-python",
   "name": "python",
   "nbconvert_exporter": "python",
   "pygments_lexer": "ipython3",
   "version": "3.7.1"
  }
 },
 "nbformat": 4,
 "nbformat_minor": 2
}
